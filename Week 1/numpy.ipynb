{
 "cells": [
  {
   "cell_type": "markdown",
   "metadata": {},
   "source": [
    "# Python basics"
   ]
  },
  {
   "cell_type": "code",
   "execution_count": 3,
   "metadata": {},
   "outputs": [
    {
     "name": "stdout",
     "output_type": "stream",
     "text": [
      "[1, 4, 9, 16, 25, 2, 10, 20, 30]\n",
      "4\n",
      "10\n",
      "[16, 25, 2]\n",
      "[4, 16, 2, 20]\n"
     ]
    }
   ],
   "source": [
    "# python lists\n",
    "l = [] # lege lijst\n",
    "l = [1, 2, 3, 4, 5]\n",
    "l = [x*x for x in l] # list comprehension\n",
    "\n",
    "# dit gaat concateneren en niet optellen\n",
    "# l + 2\n",
    "l.append(2)\n",
    "# dit gaat een lijst toevoegen en niet elk element afzonderlijk\n",
    "#l.append([10,20,30])\n",
    "l.extend([10,20,30])\n",
    "\n",
    "print(l)\n",
    "\n",
    "# slicing\n",
    "print(l[1])\n",
    "print(l[-3])      # begin vanachter te tellen als -1\n",
    "print(l[3:-3])    # van tot\n",
    "print(l[1:-1:2])  # start - stop - stapgrootte"
   ]
  },
  {
   "cell_type": "code",
   "execution_count": 4,
   "metadata": {},
   "outputs": [
    {
     "name": "stdout",
     "output_type": "stream",
     "text": [
      "l is not none ;)\n"
     ]
    },
    {
     "ename": "NameError",
     "evalue": "name 'x' is not defined",
     "output_type": "error",
     "traceback": [
      "\u001b[1;31m---------------------------------------------------------------------------\u001b[0m",
      "\u001b[1;31mNameError\u001b[0m                                 Traceback (most recent call last)",
      "Cell \u001b[1;32mIn[4], line 4\u001b[0m\n\u001b[0;32m      1\u001b[0m \u001b[38;5;28;01mif\u001b[39;00m l \u001b[38;5;129;01mis\u001b[39;00m \u001b[38;5;129;01mnot\u001b[39;00m \u001b[38;5;28;01mNone\u001b[39;00m: \u001b[38;5;66;03m# None is de term voor null in python of onbestaand\u001b[39;00m\n\u001b[0;32m      2\u001b[0m     \u001b[38;5;28mprint\u001b[39m(\u001b[38;5;124m\"\u001b[39m\u001b[38;5;124ml is not none ;)\u001b[39m\u001b[38;5;124m\"\u001b[39m)\n\u001b[1;32m----> 4\u001b[0m \u001b[38;5;28;01mif\u001b[39;00m \u001b[38;5;129;01mnot\u001b[39;00m (\u001b[43mx\u001b[49m \u001b[38;5;129;01mand\u001b[39;00m l):\n\u001b[0;32m      5\u001b[0m     \u001b[38;5;28;01mpass\u001b[39;00m  \u001b[38;5;66;03m# pass is om te zeggen dat de body hier stopt van functies/if/...\u001b[39;00m\n",
      "\u001b[1;31mNameError\u001b[0m: name 'x' is not defined"
     ]
    }
   ],
   "source": [
    "if l is not None: # None is de term voor null in python of onbestaand\n",
    "    print(\"l is not none ;)\")\n",
    "\n",
    "if not (x and l):\n",
    "    pass  # pass is om te zeggen dat de body hier stopt van functies/if/..."
   ]
  },
  {
   "cell_type": "code",
   "execution_count": 4,
   "metadata": {},
   "outputs": [
    {
     "name": "stdout",
     "output_type": "stream",
     "text": [
      "0\n",
      "1\n",
      "2\n",
      "3\n",
      "4\n",
      "Element 0 heeft value 1\n",
      "Element 1 heeft value 4\n",
      "Element 2 heeft value 9\n",
      "Element 3 heeft value 16\n",
      "Element 4 heeft value 25\n",
      "Element 5 heeft value 2\n",
      "Element 6 heeft value 10\n",
      "Element 7 heeft value 20\n",
      "Element 8 heeft value 30\n"
     ]
    }
   ],
   "source": [
    "#for x in l:\n",
    "for x in range(0,5):\n",
    "    print(x)\n",
    "\n",
    "while False:\n",
    "    print(\"doet niets\")\n",
    "\n",
    "for index in range(len(l)): # len is de lengte opvragen\n",
    "    value = l[index]\n",
    "\n",
    "for index, value in enumerate(l):\n",
    "    print(f\"Element {index} heeft value {value}\")"
   ]
  },
  {
   "cell_type": "code",
   "execution_count": 5,
   "metadata": {},
   "outputs": [
    {
     "name": "stdout",
     "output_type": "stream",
     "text": [
      "Hello world!\n",
      "10\n",
      "7\n",
      "Andy Weir is 28 jaar oud\n",
      "2\n"
     ]
    }
   ],
   "source": [
    "# hello world voorbeeld\n",
    "print(\"Hello world!\")\n",
    "# voer cell uit met shift + enter\n",
    "# a voor een extra cell erboven, b voor een cell eronder, met x doe je de geselecteerde cell weg (deselcteer de cell eerst met escape)\n",
    "# als er problemen zijn met jupyter notebook -> installeer de extensie.\n",
    "\n",
    "x = 10\n",
    "x = 'Data Science'\n",
    "x = True\n",
    "\n",
    "# def = definieer een functie\n",
    "# functienaam \n",
    "# parameterlijst\n",
    "def optellen(a,b):\n",
    "    return a + b\n",
    "\n",
    "# met =5 zeg ik: dit is de defaultwaarde\n",
    "def optellen2(a,b=5):\n",
    "    return a + b\n",
    "\n",
    "print(optellen(2, 8))\n",
    "print(optellen2(2))\n",
    "\n",
    "\n",
    "class Persoon:\n",
    "\n",
    "    populatie = 0\n",
    "\n",
    "    def __init__(self, naam, leeftijd):\n",
    "        self.naam = naam\n",
    "        self.leeftijd = leeftijd\n",
    "        Persoon.populatie += 1 # ++ werkt niet in python\n",
    "\n",
    "    def beschrijving(self):\n",
    "        return f\"{self.naam} is {self.leeftijd} jaar oud\"\n",
    "    \n",
    "    @staticmethod\n",
    "    def aantalPersonen():\n",
    "        return Persoon.populatie\n",
    "    \n",
    "p1 = Persoon(\"Andy Weir\", 28)\n",
    "p2 = Persoon(\"Isaac Asimov\", 80)\n",
    "\n",
    "print(p1.beschrijving())\n",
    "print(Persoon.aantalPersonen())"
   ]
  },
  {
   "cell_type": "markdown",
   "metadata": {},
   "source": [
    "# Numpy basics"
   ]
  },
  {
   "cell_type": "markdown",
   "metadata": {},
   "source": [
    "De basisstructuur in NumPy is de **ndarray** (n-dimensionale array). Een ndarray kan worden gezien als een rooster van elementen, allemaal van hetzelfde type, geïndexeerd door een tuple van niet-negatieve gehele getallen. Je kunt NumPy gebruiken om arrays te maken door gebruik te maken van de functie np.array(). Dit is een voorbeeld:"
   ]
  },
  {
   "cell_type": "code",
   "execution_count": 9,
   "metadata": {},
   "outputs": [],
   "source": [
    "#import numpy\n",
    "import numpy as np\n",
    "#from numpy import random # importeer enkel de random functie uit numpy library/package"
   ]
  },
  {
   "cell_type": "code",
   "execution_count": 10,
   "metadata": {},
   "outputs": [
    {
     "data": {
      "text/plain": [
       "array([1, 2, 3, 4, 5])"
      ]
     },
     "execution_count": 10,
     "metadata": {},
     "output_type": "execute_result"
    }
   ],
   "source": [
    "a = np.array([1, 2, 3, 4, 5])\n",
    "a"
   ]
  },
  {
   "cell_type": "markdown",
   "metadata": {},
   "source": [
    "In dit voorbeeld wordt een NumPy-array a gemaakt met de elementen 1 tot 5. Deze array is één-dimensionaal, maar NumPy ondersteunt ook meerdimensionale arrays. Een tweedimensionale array kan bijvoorbeeld als volgt worden gemaakt"
   ]
  },
  {
   "cell_type": "code",
   "execution_count": 11,
   "metadata": {},
   "outputs": [
    {
     "data": {
      "text/plain": [
       "array([[1, 2, 3],\n",
       "       [4, 5, 6]])"
      ]
     },
     "execution_count": 11,
     "metadata": {},
     "output_type": "execute_result"
    }
   ],
   "source": [
    "b = np.array([[1, 2, 3], [4, 5, 6]])\n",
    "b"
   ]
  },
  {
   "cell_type": "markdown",
   "metadata": {},
   "source": [
    "Hier zie je een 2x3 matrix, wat betekent dat er twee rijen en drie kolommen zijn. Je kunt de vorm van een array opvragen met de shape-eigenschap:"
   ]
  },
  {
   "cell_type": "code",
   "execution_count": null,
   "metadata": {},
   "outputs": [],
   "source": [
    "b.shape\n",
    "# (2,3) = 2 rijen en 3 kolommen"
   ]
  },
  {
   "cell_type": "markdown",
   "metadata": {},
   "source": [
    "NumPy biedt ook verschillende manieren om arrays te genereren zonder expliciet de waarden te specificeren. Bijvoorbeeld, np.zeros((2, 3)) maakt een 2x3 matrix gevuld met nullen, terwijl np.ones((2, 3)) een matrix met enen genereert. Je kunt ook een reeks getallen genereren met np.arange(), dat vergelijkbaar is met de ingebouwde range()-functie van Python, maar een NumPy-array retourneert.\n",
    "\n",
    "Een van de belangrijkste voordelen van NumPy is de mogelijkheid om elementgewijze operaties uit te voeren op arrays. Dit betekent dat je dezelfde bewerking tegelijkertijd kunt toepassen op alle elementen van een array zonder een expliciete lus te schrijven. Bijvoorbeeld:"
   ]
  },
  {
   "cell_type": "code",
   "execution_count": 12,
   "metadata": {},
   "outputs": [
    {
     "data": {
      "text/plain": [
       "array([3, 4, 5, 6, 7])"
      ]
     },
     "execution_count": 12,
     "metadata": {},
     "output_type": "execute_result"
    }
   ],
   "source": [
    "a + 2"
   ]
  },
  {
   "cell_type": "markdown",
   "metadata": {},
   "source": [
    "In dit voorbeeld wordt elk element van array c vermenigvuldigd met 2, wat resulteert in een nieuwe array d met de waarden [2, 4, 6, 8, 10]. Dergelijke operaties zijn niet alleen korter om te schrijven, maar ook sneller dan een vergelijkbare operatie met een Python-lijst."
   ]
  },
  {
   "cell_type": "code",
   "execution_count": null,
   "metadata": {},
   "outputs": [],
   "source": [
    "# alle codes heb ik meerdere keren uitgeprobeerd op verschillende manieren en numpy werd ge installed met een pip install"
   ]
  }
 ],
 "metadata": {
  "kernelspec": {
   "display_name": "Python 3",
   "language": "python",
   "name": "python3"
  },
  "language_info": {
   "codemirror_mode": {
    "name": "ipython",
    "version": 3
   },
   "file_extension": ".py",
   "mimetype": "text/x-python",
   "name": "python",
   "nbconvert_exporter": "python",
   "pygments_lexer": "ipython3",
   "version": "3.12.5"
  }
 },
 "nbformat": 4,
 "nbformat_minor": 2
}
