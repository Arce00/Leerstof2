{
 "cells": [
  {
   "cell_type": "markdown",
   "metadata": {},
   "source": [
    "# Python basics"
   ]
  },
  {
   "cell_type": "code",
   "execution_count": null,
   "metadata": {},
   "outputs": [],
   "source": [
    "# python lists\n",
    "l = [] # lege lijst\n",
    "l = [1, 2, 3, 4, 5]\n",
    "l = [x*x for x in l] # list comprehension\n",
    "\n",
    "# dit gaat concateneren en niet optellen\n",
    "# l + 2\n",
    "l.append(2)\n",
    "# dit gaat een lijst toevoegen en niet elk element afzonderlijk\n",
    "#l.append([10,20,30])\n",
    "l.extend([10,20,30])\n",
    "\n",
    "print(l)\n",
    "\n",
    "# slicing\n",
    "print(l[1])\n",
    "print(l[-3])      # begin vanachter te tellen als -1\n",
    "print(l[3:-3])    # van tot\n",
    "print(l[1:-1:2])  # start - stop - stapgrootte"
   ]
  },
  {
   "cell_type": "code",
   "execution_count": null,
   "metadata": {},
   "outputs": [],
   "source": [
    "if l is not None: # None is de term voor null in python of onbestaand\n",
    "    print(\"l is not none ;)\")\n",
    "\n",
    "if not (x and l):\n",
    "    pass  # pass is om te zeggen dat de body hier stopt van functies/if/..."
   ]
  },
  {
   "cell_type": "code",
   "execution_count": null,
   "metadata": {},
   "outputs": [],
   "source": [
    "#for x in l:\n",
    "for x in range(0,5):\n",
    "    print(x)\n",
    "\n",
    "while False:\n",
    "    print(\"doet niets\")\n",
    "\n",
    "for index in range(len(l)): # len is de lengte opvragen\n",
    "    value = l[index]\n",
    "\n",
    "for index, value in enumerate(l):\n",
    "    print(f\"Element {index} heeft value {value}\")"
   ]
  },
  {
   "cell_type": "code",
   "execution_count": null,
   "metadata": {},
   "outputs": [],
   "source": [
    "# hello world voorbeeld\n",
    "print(\"Hello world!\")\n",
    "# voer cell uit met shift + enter\n",
    "# a voor een extra cell erboven, b voor een cell eronder, met x doe je de geselecteerde cell weg (deselcteer de cell eerst met escape)\n",
    "# als er problemen zijn met jupyter notebook -> installeer de extensie.\n",
    "\n",
    "x = 10\n",
    "x = 'Data Science'\n",
    "x = True\n",
    "\n",
    "# def = definieer een functie\n",
    "# functienaam \n",
    "# parameterlijst\n",
    "def optellen(a,b):\n",
    "    return a + b\n",
    "\n",
    "# met =5 zeg ik: dit is de defaultwaarde\n",
    "def optellen2(a,b=5):\n",
    "    return a + b\n",
    "\n",
    "print(optellen(2, 8))\n",
    "print(optellen2(2))\n",
    "\n",
    "\n",
    "class Persoon:\n",
    "\n",
    "    populatie = 0\n",
    "\n",
    "    def __init__(self, naam, leeftijd):\n",
    "        self.naam = naam\n",
    "        self.leeftijd = leeftijd\n",
    "        Persoon.populatie += 1 # ++ werkt niet in python\n",
    "\n",
    "    def beschrijving(self):\n",
    "        return f\"{self.naam} is {self.leeftijd} jaar oud\"\n",
    "    \n",
    "    @staticmethod\n",
    "    def aantalPersonen():\n",
    "        return Persoon.populatie\n",
    "    \n",
    "p1 = Persoon(\"Andy Weir\", 28)\n",
    "p2 = Persoon(\"Isaac Asimov\", 80)\n",
    "\n",
    "print(p1.beschrijving())\n",
    "print(Persoon.aantalPersonen())"
   ]
  },
  {
   "cell_type": "markdown",
   "metadata": {},
   "source": [
    "# Numpy basics"
   ]
  },
  {
   "cell_type": "markdown",
   "metadata": {},
   "source": [
    "De basisstructuur in NumPy is de **ndarray** (n-dimensionale array). Een ndarray kan worden gezien als een rooster van elementen, allemaal van hetzelfde type, geïndexeerd door een tuple van niet-negatieve gehele getallen. Je kunt NumPy gebruiken om arrays te maken door gebruik te maken van de functie np.array(). Dit is een voorbeeld:"
   ]
  },
  {
   "cell_type": "code",
   "execution_count": 41,
   "metadata": {},
   "outputs": [],
   "source": [
    "#import numpy\n",
    "import numpy as np\n",
    "#from numpy import random # importeer enkel de random functie uit numpy library/package"
   ]
  },
  {
   "cell_type": "code",
   "execution_count": null,
   "metadata": {},
   "outputs": [],
   "source": [
    "a = np.array([1, 2, 3, 4, 5])\n",
    "a"
   ]
  },
  {
   "cell_type": "markdown",
   "metadata": {},
   "source": [
    "In dit voorbeeld wordt een NumPy-array a gemaakt met de elementen 1 tot 5. Deze array is één-dimensionaal, maar NumPy ondersteunt ook meerdimensionale arrays. Een tweedimensionale array kan bijvoorbeeld als volgt worden gemaakt"
   ]
  },
  {
   "cell_type": "code",
   "execution_count": null,
   "metadata": {},
   "outputs": [],
   "source": [
    "b = np.array([[1, 2, 3], [4, 5, 6]])\n",
    "b"
   ]
  },
  {
   "cell_type": "markdown",
   "metadata": {},
   "source": [
    "Hier zie je een 2x3 matrix, wat betekent dat er twee rijen en drie kolommen zijn. Je kunt de vorm van een array opvragen met de shape-eigenschap:"
   ]
  },
  {
   "cell_type": "code",
   "execution_count": null,
   "metadata": {},
   "outputs": [],
   "source": [
    "b.shape\n",
    "# (2,3) = 2 rijen en 3 kolommen"
   ]
  },
  {
   "cell_type": "markdown",
   "metadata": {},
   "source": [
    "NumPy biedt ook verschillende manieren om arrays te genereren zonder expliciet de waarden te specificeren. Bijvoorbeeld, np.zeros((2, 3)) maakt een 2x3 matrix gevuld met nullen, terwijl np.ones((2, 3)) een matrix met enen genereert. Je kunt ook een reeks getallen genereren met np.arange(), dat vergelijkbaar is met de ingebouwde range()-functie van Python, maar een NumPy-array retourneert.\n",
    "\n",
    "Een van de belangrijkste voordelen van NumPy is de mogelijkheid om elementgewijze operaties uit te voeren op arrays. Dit betekent dat je dezelfde bewerking tegelijkertijd kunt toepassen op alle elementen van een array zonder een expliciete lus te schrijven. Bijvoorbeeld:"
   ]
  },
  {
   "cell_type": "code",
   "execution_count": null,
   "metadata": {},
   "outputs": [],
   "source": [
    "a + 2"
   ]
  },
  {
   "cell_type": "markdown",
   "metadata": {},
   "source": [
    "In dit voorbeeld wordt elk element van array c vermenigvuldigd met 2, wat resulteert in een nieuwe array d met de waarden [2, 4, 6, 8, 10]. Dergelijke operaties zijn niet alleen korter om te schrijven, maar ook sneller dan een vergelijkbare operatie met een Python-lijst."
   ]
  }
 ],
 "metadata": {
  "kernelspec": {
   "display_name": "Python 3",
   "language": "python",
   "name": "python3"
  },
  "language_info": {
   "codemirror_mode": {
    "name": "ipython",
    "version": 3
   },
   "file_extension": ".py",
   "mimetype": "text/x-python",
   "name": "python",
   "nbconvert_exporter": "python",
   "pygments_lexer": "ipython3",
   "version": "3.12.5"
  }
 },
 "nbformat": 4,
 "nbformat_minor": 2
}
